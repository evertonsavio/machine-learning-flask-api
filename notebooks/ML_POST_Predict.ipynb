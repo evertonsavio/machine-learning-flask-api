{
 "cells": [
  {
   "cell_type": "markdown",
   "metadata": {},
   "source": [
    "### Notebook de ML com POST  \n",
    "  \n",
    "* Esse notebook envia dados por uma requisição POST para um microservico que aplica um modelo de ML aos dados enviados e retorna as predições."
   ]
  },
  {
   "cell_type": "code",
   "execution_count": null,
   "metadata": {},
   "outputs": [],
   "source": [
    "# Importando a requests library & json\n",
    "import requests \n",
    "import json"
   ]
  },
  {
   "cell_type": "code",
   "execution_count": null,
   "metadata": {},
   "outputs": [],
   "source": [
    "dictionary = {'sbp': [0.17],\n",
    " 'tobacco': [0.1],\n",
    " 'ldl': [0.18],\n",
    " 'adiposity': [0.5],\n",
    " 'typea': [0.4],\n",
    " 'obesity': [0.20],\n",
    " 'alcohol': [0.24],\n",
    " 'age': [0.87],\n",
    " 'Absent': [0.0],\n",
    " 'Present': [1.0]}"
   ]
  },
  {
   "cell_type": "code",
   "execution_count": null,
   "metadata": {},
   "outputs": [],
   "source": [
    "print(\"Dicionario: {}\".format(dictionary))"
   ]
  },
  {
   "cell_type": "code",
   "execution_count": null,
   "metadata": {},
   "outputs": [],
   "source": [
    "jsondata = json.dumps(dictionary)\n",
    "print(\"Isso é JSON: {}\".format(jsondata))"
   ]
  },
  {
   "cell_type": "code",
   "execution_count": null,
   "metadata": {},
   "outputs": [],
   "source": [
    "#Testando o servidor com uma chamada POST\n",
    "url = \"http://127.0.0.1:5000/test\"\n",
    "post_data = {'data_set ID': '1', 'payload': '1'}\n",
    "r = requests.post(url = url, json = post_data)\n",
    "resposta = r.json()\n",
    "resposta"
   ]
  },
  {
   "cell_type": "code",
   "execution_count": null,
   "metadata": {},
   "outputs": [],
   "source": [
    "#Enviando os dados e recebendo a predição\n",
    "url = \"http://127.0.0.1:5000/model\"\n",
    "post_data = {'data_set ID': '1', 'payload':jsondata}\n",
    "r = requests.post(url = url, json = post_data)\n",
    "print(r.json())"
   ]
  }
 ],
 "metadata": {
  "kernelspec": {
   "display_name": "tf_gpu",
   "language": "python",
   "name": "tf_gpu"
  },
  "language_info": {
   "codemirror_mode": {
    "name": "ipython",
    "version": 3
   },
   "file_extension": ".py",
   "mimetype": "text/x-python",
   "name": "python",
   "nbconvert_exporter": "python",
   "pygments_lexer": "ipython3",
   "version": "3.7.7"
  }
 },
 "nbformat": 4,
 "nbformat_minor": 4
}
